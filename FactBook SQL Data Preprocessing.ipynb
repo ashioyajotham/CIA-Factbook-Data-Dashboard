{
 "cells": [
  {
   "cell_type": "markdown",
   "id": "b9d698c4",
   "metadata": {},
   "source": [
    "# The purpose of this notebook is to use SQL to create csv files that will make it easy to Visualize the data and answer questions using Tableau"
   ]
  },
  {
   "cell_type": "code",
   "execution_count": 1,
   "id": "4f7d9566",
   "metadata": {},
   "outputs": [],
   "source": [
    "# Import libraries\n",
    "import pandas as pd\n",
    "from pandas import DataFrame\n",
    "import sqlite3"
   ]
  },
  {
   "cell_type": "code",
   "execution_count": 2,
   "id": "9fbf07a2",
   "metadata": {},
   "outputs": [],
   "source": [
    "# Connect the factbook database\n",
    "factbook_db = 'factbook.db'\n",
    "conn = sqlite3.connect(factbook_db)\n",
    "c = conn.cursor()"
   ]
  },
  {
   "cell_type": "code",
   "execution_count": 3,
   "id": "47a16b0b",
   "metadata": {},
   "outputs": [
    {
     "name": "stdout",
     "output_type": "stream",
     "text": [
      "[('table', 'facts', 'facts', 2, 'CREATE TABLE \"facts\" (\"id\" INTEGER PRIMARY KEY AUTOINCREMENT NOT NULL, \"code\" varchar(255) NOT NULL, \"name\" varchar(255) NOT NULL, \"area\" integer, \"area_land\" integer, \"area_water\" integer, \"population\" integer, \"population_growth\" float, \"birth_rate\" float, \"death_rate\" float, \"migration_rate\" float, \"created_at\" datetime, \"updated_at\" datetime)'), ('table', 'sqlite_sequence', 'sqlite_sequence', 3, 'CREATE TABLE sqlite_sequence(name,seq)')]\n"
     ]
    }
   ],
   "source": [
    "# View all the tables\n",
    "query = 'SELECT * FROM sqlite_master WHERE type = \"table\"'\n",
    "c.execute(query)\n",
    "print(c.fetchall())"
   ]
  },
  {
   "cell_type": "markdown",
   "id": "bff252ed",
   "metadata": {},
   "source": [
    "# Complete Dataset"
   ]
  },
  {
   "cell_type": "code",
   "execution_count": 4,
   "id": "a08efe46",
   "metadata": {},
   "outputs": [
    {
     "data": {
      "text/html": [
       "<div>\n",
       "<style scoped>\n",
       "    .dataframe tbody tr th:only-of-type {\n",
       "        vertical-align: middle;\n",
       "    }\n",
       "\n",
       "    .dataframe tbody tr th {\n",
       "        vertical-align: top;\n",
       "    }\n",
       "\n",
       "    .dataframe thead th {\n",
       "        text-align: right;\n",
       "    }\n",
       "</style>\n",
       "<table border=\"1\" class=\"dataframe\">\n",
       "  <thead>\n",
       "    <tr style=\"text-align: right;\">\n",
       "      <th></th>\n",
       "      <th>name</th>\n",
       "      <th>area</th>\n",
       "      <th>area_land</th>\n",
       "      <th>area_water</th>\n",
       "      <th>population</th>\n",
       "      <th>population_growth</th>\n",
       "      <th>birth_rate</th>\n",
       "      <th>death_rate</th>\n",
       "      <th>migration_rate</th>\n",
       "    </tr>\n",
       "  </thead>\n",
       "  <tbody>\n",
       "    <tr>\n",
       "      <th>0</th>\n",
       "      <td>Afghanistan</td>\n",
       "      <td>652230.0</td>\n",
       "      <td>652230.0</td>\n",
       "      <td>0.0</td>\n",
       "      <td>32564342.0</td>\n",
       "      <td>2.32</td>\n",
       "      <td>38.57</td>\n",
       "      <td>13.89</td>\n",
       "      <td>1.51</td>\n",
       "    </tr>\n",
       "    <tr>\n",
       "      <th>1</th>\n",
       "      <td>Albania</td>\n",
       "      <td>28748.0</td>\n",
       "      <td>27398.0</td>\n",
       "      <td>1350.0</td>\n",
       "      <td>3029278.0</td>\n",
       "      <td>0.30</td>\n",
       "      <td>12.92</td>\n",
       "      <td>6.58</td>\n",
       "      <td>3.30</td>\n",
       "    </tr>\n",
       "    <tr>\n",
       "      <th>2</th>\n",
       "      <td>Algeria</td>\n",
       "      <td>2381741.0</td>\n",
       "      <td>2381741.0</td>\n",
       "      <td>0.0</td>\n",
       "      <td>39542166.0</td>\n",
       "      <td>1.84</td>\n",
       "      <td>23.67</td>\n",
       "      <td>4.31</td>\n",
       "      <td>0.92</td>\n",
       "    </tr>\n",
       "    <tr>\n",
       "      <th>3</th>\n",
       "      <td>Andorra</td>\n",
       "      <td>468.0</td>\n",
       "      <td>468.0</td>\n",
       "      <td>0.0</td>\n",
       "      <td>85580.0</td>\n",
       "      <td>0.12</td>\n",
       "      <td>8.13</td>\n",
       "      <td>6.96</td>\n",
       "      <td>0.00</td>\n",
       "    </tr>\n",
       "    <tr>\n",
       "      <th>4</th>\n",
       "      <td>Angola</td>\n",
       "      <td>1246700.0</td>\n",
       "      <td>1246700.0</td>\n",
       "      <td>0.0</td>\n",
       "      <td>19625353.0</td>\n",
       "      <td>2.78</td>\n",
       "      <td>38.78</td>\n",
       "      <td>11.49</td>\n",
       "      <td>0.46</td>\n",
       "    </tr>\n",
       "    <tr>\n",
       "      <th>5</th>\n",
       "      <td>Antigua and Barbuda</td>\n",
       "      <td>442.0</td>\n",
       "      <td>442.0</td>\n",
       "      <td>0.0</td>\n",
       "      <td>92436.0</td>\n",
       "      <td>1.24</td>\n",
       "      <td>15.85</td>\n",
       "      <td>5.69</td>\n",
       "      <td>2.21</td>\n",
       "    </tr>\n",
       "    <tr>\n",
       "      <th>6</th>\n",
       "      <td>Argentina</td>\n",
       "      <td>2780400.0</td>\n",
       "      <td>2736690.0</td>\n",
       "      <td>43710.0</td>\n",
       "      <td>43431886.0</td>\n",
       "      <td>0.93</td>\n",
       "      <td>16.64</td>\n",
       "      <td>7.33</td>\n",
       "      <td>0.00</td>\n",
       "    </tr>\n",
       "    <tr>\n",
       "      <th>7</th>\n",
       "      <td>Armenia</td>\n",
       "      <td>29743.0</td>\n",
       "      <td>28203.0</td>\n",
       "      <td>1540.0</td>\n",
       "      <td>3056382.0</td>\n",
       "      <td>0.15</td>\n",
       "      <td>13.61</td>\n",
       "      <td>9.34</td>\n",
       "      <td>5.80</td>\n",
       "    </tr>\n",
       "    <tr>\n",
       "      <th>8</th>\n",
       "      <td>Australia</td>\n",
       "      <td>7741220.0</td>\n",
       "      <td>7682300.0</td>\n",
       "      <td>58920.0</td>\n",
       "      <td>22751014.0</td>\n",
       "      <td>1.07</td>\n",
       "      <td>12.15</td>\n",
       "      <td>7.14</td>\n",
       "      <td>5.65</td>\n",
       "    </tr>\n",
       "    <tr>\n",
       "      <th>9</th>\n",
       "      <td>Austria</td>\n",
       "      <td>83871.0</td>\n",
       "      <td>82445.0</td>\n",
       "      <td>1426.0</td>\n",
       "      <td>8665550.0</td>\n",
       "      <td>0.55</td>\n",
       "      <td>9.41</td>\n",
       "      <td>9.42</td>\n",
       "      <td>5.56</td>\n",
       "    </tr>\n",
       "  </tbody>\n",
       "</table>\n",
       "</div>"
      ],
      "text/plain": [
       "                  name       area  area_land  area_water  population  \\\n",
       "0          Afghanistan   652230.0   652230.0         0.0  32564342.0   \n",
       "1              Albania    28748.0    27398.0      1350.0   3029278.0   \n",
       "2              Algeria  2381741.0  2381741.0         0.0  39542166.0   \n",
       "3              Andorra      468.0      468.0         0.0     85580.0   \n",
       "4               Angola  1246700.0  1246700.0         0.0  19625353.0   \n",
       "5  Antigua and Barbuda      442.0      442.0         0.0     92436.0   \n",
       "6            Argentina  2780400.0  2736690.0     43710.0  43431886.0   \n",
       "7              Armenia    29743.0    28203.0      1540.0   3056382.0   \n",
       "8            Australia  7741220.0  7682300.0     58920.0  22751014.0   \n",
       "9              Austria    83871.0    82445.0      1426.0   8665550.0   \n",
       "\n",
       "   population_growth  birth_rate  death_rate  migration_rate  \n",
       "0               2.32       38.57       13.89            1.51  \n",
       "1               0.30       12.92        6.58            3.30  \n",
       "2               1.84       23.67        4.31            0.92  \n",
       "3               0.12        8.13        6.96            0.00  \n",
       "4               2.78       38.78       11.49            0.46  \n",
       "5               1.24       15.85        5.69            2.21  \n",
       "6               0.93       16.64        7.33            0.00  \n",
       "7               0.15       13.61        9.34            5.80  \n",
       "8               1.07       12.15        7.14            5.65  \n",
       "9               0.55        9.41        9.42            5.56  "
      ]
     },
     "execution_count": 4,
     "metadata": {},
     "output_type": "execute_result"
    }
   ],
   "source": [
    "# Make one big database with the information\n",
    "query1 = 'SELECT name, area, area_land, area_water, population, population_growth, birth_rate, death_rate, migration_rate FROM facts'\n",
    "\n",
    "c.execute(query1)\n",
    "checkin = c.fetchall()\n",
    "\n",
    "factbook_df = DataFrame(checkin, columns = ['name','area', 'area_land', 'area_water', 'population', 'population_growth', 'birth_rate', 'death_rate', 'migration_rate'])\n",
    "\n",
    "\n",
    "\n",
    "factbook_df.to_csv('factbook_df', index = False)\n",
    "factbook_df.head(10)"
   ]
  },
  {
   "cell_type": "markdown",
   "id": "0c0cec6c",
   "metadata": {},
   "source": [
    "# Here we can see that the last 7 rows aren't countries so we will take that into account"
   ]
  },
  {
   "cell_type": "markdown",
   "id": "2f334dfd",
   "metadata": {},
   "source": [
    "# Question 1\n",
    "\n",
    "1) Which country's population is growing at the highest rate?"
   ]
  },
  {
   "cell_type": "code",
   "execution_count": 5,
   "id": "0193691d",
   "metadata": {},
   "outputs": [],
   "source": [
    "q1 = 'SELECT name, population_growth FROM facts'\n",
    "c.execute(q1)\n",
    "\n",
    "checkin = c.fetchall()\n",
    "\n",
    "q1 = DataFrame(checkin, columns = ['Country','Population Growth'])[:-7]\n",
    "\n",
    "\n",
    "q1.to_csv('q1.csv',index = False)\n"
   ]
  },
  {
   "cell_type": "markdown",
   "id": "c9bdb05f",
   "metadata": {},
   "source": [
    "# Question 2\n",
    "\n",
    "2) Which country has the smallest population to area ratio?"
   ]
  },
  {
   "cell_type": "code",
   "execution_count": 6,
   "id": "c5e9b0bf",
   "metadata": {},
   "outputs": [],
   "source": [
    "q2 = 'SELECT name, population/area FROM facts'\n",
    "c.execute(q2)\n",
    "\n",
    "checkin = c.fetchall()\n",
    "\n",
    "q2 = DataFrame(checkin, columns = ['Country' , 'Population to Area Ratio'])[:-7]\n",
    "\n",
    "q2.to_csv('q2.csv', index = False)\n"
   ]
  },
  {
   "cell_type": "markdown",
   "id": "35673fb1",
   "metadata": {},
   "source": [
    "# Question 3\n",
    "\n",
    "3) Which country is losing the most people by death or migration?"
   ]
  },
  {
   "cell_type": "code",
   "execution_count": 7,
   "id": "b41315d8",
   "metadata": {},
   "outputs": [],
   "source": [
    "q3 = 'SELECT name, death_rate+migration_rate FROM facts'\n",
    "c.execute(q3)\n",
    "checkin = c.fetchall()\n",
    "q3 = DataFrame(checkin, columns = ['Country','Death rate + Migration Rate '])[:-7]\n",
    "q3.to_csv('q3.csv', index = False)"
   ]
  },
  {
   "cell_type": "markdown",
   "id": "1660873e",
   "metadata": {},
   "source": [
    "# Question 4\n",
    "\n",
    "4) Which country has the largest water to total area ratio?"
   ]
  },
  {
   "cell_type": "code",
   "execution_count": 18,
   "id": "f2b1aba0",
   "metadata": {},
   "outputs": [],
   "source": [
    "q4 = 'SELECT name, area,area_land,area_water FROM facts'\n",
    "c.execute(q4)\n",
    "checkin = c.fetchall()\n",
    "q4 = DataFrame(checkin, columns = ['Country','Total Area','Land Area', 'Water Area'])[:-7]\n",
    "q4.to_csv('q4.csv', index = False)"
   ]
  },
  {
   "cell_type": "code",
   "execution_count": null,
   "id": "3610820b",
   "metadata": {},
   "outputs": [],
   "source": []
  }
 ],
 "metadata": {
  "kernelspec": {
   "display_name": "Python 3",
   "language": "python",
   "name": "python3"
  },
  "language_info": {
   "codemirror_mode": {
    "name": "ipython",
    "version": 3
   },
   "file_extension": ".py",
   "mimetype": "text/x-python",
   "name": "python",
   "nbconvert_exporter": "python",
   "pygments_lexer": "ipython3",
   "version": "3.8.8"
  }
 },
 "nbformat": 4,
 "nbformat_minor": 5
}
